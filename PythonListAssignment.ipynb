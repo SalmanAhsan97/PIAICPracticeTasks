{
 "cells": [
  {
   "cell_type": "markdown",
   "metadata": {},
   "source": [
    "# Documenting Python List Methods"
   ]
  },
  {
   "cell_type": "code",
   "execution_count": 1,
   "metadata": {},
   "outputs": [
    {
     "name": "stdout",
     "output_type": "stream",
     "text": [
      "[1, 2, 3, 4]\n"
     ]
    }
   ],
   "source": [
    "my_list = [1, 2, 3]\n",
    "my_list.append(4)\n",
    "print(my_list)  # Output: [1, 2, 3, 4]"
   ]
  },
  {
   "cell_type": "code",
   "execution_count": 2,
   "metadata": {},
   "outputs": [
    {
     "name": "stdout",
     "output_type": "stream",
     "text": [
      "[1, 2, 3, 4, 5]\n"
     ]
    }
   ],
   "source": [
    "my_list = [1, 2, 3]\n",
    "my_list.extend([4, 5])\n",
    "print(my_list)  # Output: [1, 2, 3, 4, 5]"
   ]
  },
  {
   "cell_type": "code",
   "execution_count": 3,
   "metadata": {},
   "outputs": [
    {
     "name": "stdout",
     "output_type": "stream",
     "text": [
      "[1, 'a', 2, 3]\n"
     ]
    }
   ],
   "source": [
    "my_list = [1, 2, 3]\n",
    "my_list.insert(1, 'a')\n",
    "print(my_list)  # Output: [1, 'a', 2, 3]"
   ]
  },
  {
   "cell_type": "code",
   "execution_count": 4,
   "metadata": {},
   "outputs": [
    {
     "name": "stdout",
     "output_type": "stream",
     "text": [
      "[1, 3, 2]\n"
     ]
    }
   ],
   "source": [
    "my_list = [1, 2, 3, 2]\n",
    "my_list.remove(2)\n",
    "print(my_list)  # Output: [1, 3, 2]"
   ]
  },
  {
   "cell_type": "code",
   "execution_count": 5,
   "metadata": {},
   "outputs": [
    {
     "name": "stdout",
     "output_type": "stream",
     "text": [
      "[1, 3]\n",
      "2\n"
     ]
    }
   ],
   "source": [
    "my_list = [1, 2, 3]\n",
    "popped_element = my_list.pop(1)\n",
    "print(my_list)  # Output: [1, 3]\n",
    "print(popped_element)  # Output: 2"
   ]
  },
  {
   "cell_type": "code",
   "execution_count": 6,
   "metadata": {},
   "outputs": [
    {
     "name": "stdout",
     "output_type": "stream",
     "text": [
      "[]\n"
     ]
    }
   ],
   "source": [
    "my_list = [1, 2, 3]\n",
    "my_list.clear()\n",
    "print(my_list)  # Output: []"
   ]
  },
  {
   "cell_type": "code",
   "execution_count": 7,
   "metadata": {},
   "outputs": [
    {
     "name": "stdout",
     "output_type": "stream",
     "text": [
      "1\n"
     ]
    }
   ],
   "source": [
    "my_list = [1, 2, 3, 2]\n",
    "index = my_list.index(2)\n",
    "print(index)  # Output: 1"
   ]
  },
  {
   "cell_type": "code",
   "execution_count": 8,
   "metadata": {},
   "outputs": [
    {
     "name": "stdout",
     "output_type": "stream",
     "text": [
      "2\n"
     ]
    }
   ],
   "source": [
    "my_list = [1, 2, 3, 2]\n",
    "count = my_list.count(2)\n",
    "print(count)  # Output: 2"
   ]
  },
  {
   "cell_type": "code",
   "execution_count": 9,
   "metadata": {},
   "outputs": [
    {
     "name": "stdout",
     "output_type": "stream",
     "text": [
      "[1, 2, 3]\n"
     ]
    }
   ],
   "source": [
    "my_list = [3, 1, 2]\n",
    "my_list.sort()\n",
    "print(my_list)  # Output: [1, 2, 3]"
   ]
  },
  {
   "cell_type": "code",
   "execution_count": 10,
   "metadata": {},
   "outputs": [
    {
     "name": "stdout",
     "output_type": "stream",
     "text": [
      "[3, 2, 1]\n"
     ]
    }
   ],
   "source": [
    "my_list = [1, 2, 3]\n",
    "my_list.reverse()\n",
    "print(my_list)  # Output: [3, 2, 1]"
   ]
  },
  {
   "cell_type": "code",
   "execution_count": 11,
   "metadata": {},
   "outputs": [
    {
     "name": "stdout",
     "output_type": "stream",
     "text": [
      "[1, 2, 3]\n"
     ]
    }
   ],
   "source": [
    "my_list = [1, 2, 3]\n",
    "new_list = my_list.copy()\n",
    "print(new_list)  # Output: [1, 2, 3]"
   ]
  },
  {
   "cell_type": "markdown",
   "metadata": {},
   "source": [
    "# Exercise 3-1 --> Names Task: Store the names of a few of your friends in a list called names. Print each person’s name by accessing each element in the list, one at a time."
   ]
  },
  {
   "cell_type": "code",
   "execution_count": 12,
   "metadata": {},
   "outputs": [
    {
     "name": "stdout",
     "output_type": "stream",
     "text": [
      "Salman\n",
      "Bob\n",
      "Sally\n"
     ]
    }
   ],
   "source": [
    "names = ['Salman', 'Bob', 'Sally']\n",
    "print(names[0])\n",
    "print(names[1])\n",
    "print(names[2])"
   ]
  },
  {
   "cell_type": "markdown",
   "metadata": {},
   "source": [
    "# Exercise 3-2 --> Greetings Task: Start with the list you used in Exercise 3-1. Instead of just printing each person’s name, print a message to them. The text of each message should be the same, but each message should be personalized with the person’s name."
   ]
  },
  {
   "cell_type": "code",
   "execution_count": 13,
   "metadata": {},
   "outputs": [
    {
     "name": "stdout",
     "output_type": "stream",
     "text": [
      "Hello, Salman! How are you?\n",
      "Hello, Bob! How are you?\n",
      "Hello, Sally! How are you?\n"
     ]
    }
   ],
   "source": [
    "names = ['Salman', 'Bob', 'Sally']\n",
    "print(f\"Hello, {names[0]}! How are you?\")\n",
    "print(f\"Hello, {names[1]}! How are you?\")\n",
    "print(f\"Hello, {names[2]}! How are you?\")"
   ]
  },
  {
   "cell_type": "markdown",
   "metadata": {},
   "source": [
    "# Exercise 3-3 --> Your Own List Task: Think of your favorite mode of transportation, such as a motorcycle or a car, and make a list that stores several examples. Use your list to print a series of statements about these items, such as “I would like to own a Honda motorcycle.”"
   ]
  },
  {
   "cell_type": "code",
   "execution_count": 14,
   "metadata": {},
   "outputs": [
    {
     "name": "stdout",
     "output_type": "stream",
     "text": [
      "I would like to own a jeep.\n",
      "I would like to own a motorcycle.\n",
      "I would like to own a car.\n"
     ]
    }
   ],
   "source": [
    "transport = ['jeep', 'motorcycle', 'car']\n",
    "print(f\"I would like to own a {transport[0]}.\")\n",
    "print(f\"I would like to own a {transport[1]}.\")\n",
    "print(f\"I would like to own a {transport[2]}.\")"
   ]
  },
  {
   "cell_type": "markdown",
   "metadata": {},
   "source": [
    "# Exercise 3-4 --> Guest List Task: If you could invite anyone, living or deceased, to dinner, who would you invite? Make a list that includes at least three people you’d like to invite to dinner. Then use your list to print a message to each person, inviting them to dinner.\n",
    "\n"
   ]
  },
  {
   "cell_type": "code",
   "execution_count": 15,
   "metadata": {},
   "outputs": [
    {
     "name": "stdout",
     "output_type": "stream",
     "text": [
      "Dear Trump, you are invited to dinner.\n",
      "Dear Imran khan, you are invited to dinner.\n",
      "Dear bajwa shb, you are invited to dinner.\n"
     ]
    }
   ],
   "source": [
    "guests = ['Trump', 'Imran khan', 'bajwa shb']\n",
    "print(f\"Dear {guests[0]}, you are invited to dinner.\")\n",
    "print(f\"Dear {guests[1]}, you are invited to dinner.\")\n",
    "print(f\"Dear {guests[2]}, you are invited to dinner.\")\n"
   ]
  },
  {
   "cell_type": "markdown",
   "metadata": {},
   "source": [
    "# Exercise 3-5 --> Changing Guest List Task: Start with your program from Exercise 3-4. Add a print() call at the end of your program, stating the name of the guest who can’t make it. Modify your list, replacing the name of the guest who can’t make it with the name of the new person you are inviting. Print a second set of invitation messages, one for each person who is still in your list.\n",
    "\n"
   ]
  },
  {
   "cell_type": "code",
   "execution_count": 21,
   "metadata": {},
   "outputs": [
    {
     "name": "stdout",
     "output_type": "stream",
     "text": [
      "Dear Trump, you are invited to dinner.\n",
      "Dear Imran khan, you are invited to dinner.\n",
      "Dear bajwa shb, you are invited to dinner.\n",
      "\n",
      "Unfortunately, Trump can't make it.\n",
      "Dear Trump, you are still invited to dinner.\n",
      "Dear Imran khan, you are invited to dinner.\n",
      "Dear bichu siyaapa, you are still invited to dinner.\n"
     ]
    }
   ],
   "source": [
    "guests = ['Trump', 'Imran khan', 'bajwa shb']\n",
    "print(f\"Dear {guests[0]}, you are invited to dinner.\")\n",
    "print(f\"Dear {guests[1]}, you are invited to dinner.\")\n",
    "print(f\"Dear {guests[2]}, you are invited to dinner.\")\n",
    "\n",
    "# Changing the guest list\n",
    "print(f\"\\nUnfortunately, {guests[0]} can't make it.\")\n",
    "guests[2] = 'bichu siyaapa'\n",
    "\n",
    "# Printing the updated invitations\n",
    "print(f\"Dear {guests[0]}, you are still invited to dinner.\")\n",
    "print(f\"Dear {guests[1]}, you are invited to dinner.\")\n",
    "print(f\"Dear {guests[2]}, you are still invited to dinner.\")\n"
   ]
  },
  {
   "cell_type": "markdown",
   "metadata": {},
   "source": [
    "# Exercise 3-6 --> More Guests Task:\n",
    "Start with your program from Exercise 3-4 or 3-5. Add a print() call to the end of your program, informing people that you found a bigger table. Use insert() to add one new guest to the beginning of your list. Use insert() to add one new guest to the middle of your list. Use append() to add one new guest to the end of your list. Print a new set of invitation messages, one for each person in your list."
   ]
  },
  {
   "cell_type": "code",
   "execution_count": 22,
   "metadata": {},
   "outputs": [
    {
     "name": "stdout",
     "output_type": "stream",
     "text": [
      "Dear Imran khan, you are invited to dinner.\n",
      "Dear Trump, you are invited to dinner.\n",
      "Dear bajwa shb, you are invited to dinner.\n",
      "\n",
      "Good news! We found a bigger table.\n",
      "Dear Galileo Galilei, you are invited to dinner.\n",
      "Dear Imran khan, you are invited to dinner.\n",
      "Dear Leonardo da Vinci, you are invited to dinner.\n",
      "Dear Trump, you are invited to dinner.\n",
      "Dear bajwa shb, you are invited to dinner.\n",
      "Dear Stephen Hawking, you are invited to dinner.\n"
     ]
    }
   ],
   "source": [
    "guests = ['Imran khan', 'Trump', 'bajwa shb']\n",
    "print(f\"Dear {guests[0]}, you are invited to dinner.\")\n",
    "print(f\"Dear {guests[1]}, you are invited to dinner.\")\n",
    "print(f\"Dear {guests[2]}, you are invited to dinner.\")\n",
    "\n",
    "# Informing guests about a bigger table\n",
    "print(\"\\nGood news! We found a bigger table.\")\n",
    "\n",
    "# Adding new guests\n",
    "guests.insert(0, 'Galileo Galilei')\n",
    "guests.insert(2, 'Leonardo da Vinci')\n",
    "guests.append('Stephen Hawking')\n",
    "\n",
    "# Printing new invitations\n",
    "for guest in guests:\n",
    "    print(f\"Dear {guest}, you are invited to dinner.\")"
   ]
  },
  {
   "cell_type": "markdown",
   "metadata": {},
   "source": [
    "# Exercise 3-7 --> Shrinking Guest List Task: Start with your program from Exercise 3-6. Add a new line that prints a message saying that you can invite only two people for dinner. Use pop() to remove guests from your list one at a time until only two names remain in your list. Each time you pop a name from your list, print a message to that person letting them know you’re sorry you can’t invite them to dinner. Print a message to each of the two people still on your list, letting them know they’re still invited. Use del to remove the last two names from your list, so you have an empty list. Print your list to make sure you actually have an empty list at the end of your program."
   ]
  },
  {
   "cell_type": "code",
   "execution_count": 23,
   "metadata": {},
   "outputs": [
    {
     "name": "stdout",
     "output_type": "stream",
     "text": [
      "Dear Galileo Galilei, you are invited to dinner.\n",
      "Dear Albert Einstein, you are invited to dinner.\n",
      "Dear Leonardo da Vinci, you are invited to dinner.\n",
      "Dear Nikola Tesla, you are invited to dinner.\n",
      "Dear Marie Curie, you are invited to dinner.\n",
      "Dear Stephen Hawking, you are invited to dinner.\n",
      "\n",
      "Sorry, I can only invite two people to dinner.\n",
      "Sorry, Stephen Hawking, I can't invite you to dinner.\n",
      "Sorry, Marie Curie, I can't invite you to dinner.\n",
      "Sorry, Nikola Tesla, I can't invite you to dinner.\n",
      "Sorry, Leonardo da Vinci, I can't invite you to dinner.\n",
      "Dear Galileo Galilei, you are still invited to dinner.\n",
      "Dear Albert Einstein, you are still invited to dinner.\n",
      "\n",
      "Final guest list: []\n"
     ]
    }
   ],
   "source": [
    "guests = ['Galileo Galilei', 'Albert Einstein', 'Leonardo da Vinci', 'Nikola Tesla', 'Marie Curie', 'Stephen Hawking']\n",
    "print(f\"Dear {guests[0]}, you are invited to dinner.\")\n",
    "print(f\"Dear {guests[1]}, you are invited to dinner.\")\n",
    "print(f\"Dear {guests[2]}, you are invited to dinner.\")\n",
    "print(f\"Dear {guests[3]}, you are invited to dinner.\")\n",
    "print(f\"Dear {guests[4]}, you are invited to dinner.\")\n",
    "print(f\"Dear {guests[5]}, you are invited to dinner.\")\n",
    "\n",
    "# Informing guests about a smaller table\n",
    "print(\"\\nSorry, I can only invite two people to dinner.\")\n",
    "\n",
    "# Removing guests until only two remain\n",
    "while len(guests) > 2:\n",
    "    removed_guest = guests.pop()\n",
    "    print(f\"Sorry, {removed_guest}, I can't invite you to dinner.\")\n",
    "\n",
    "# Final invitations\n",
    "for guest in guests:\n",
    "    print(f\"Dear {guest}, you are still invited to dinner.\")\n",
    "\n",
    "# Clearing the list\n",
    "del guests[0]\n",
    "del guests[0]\n",
    "\n",
    "# Confirming the list is empty\n",
    "print(\"\\nFinal guest list:\", guests)"
   ]
  },
  {
   "cell_type": "markdown",
   "metadata": {},
   "source": [
    "# Exercise 3-8 --> Seeing the World Task:\n",
    "Think of at least five places in the world you’d like to visit. Store the locations in a list. Make sure the list is not in alphabetical order. Print your list in its original order. Use sorted() to print your list in alphabetical order without modifying the actual list. Show that your list is still in its original order by printing it again. Use sorted() to print your list in reverse-alphabetical order without changing the order of the original list. Use reverse() to change the order of your list. Print the list to show that its order has changed. Use reverse() to change the order of your list again. Use sort() to change your list so it’s stored in alphabetical order. Use sort() to change your list so it’s stored in reverse-alphabetical order."
   ]
  },
  {
   "cell_type": "code",
   "execution_count": 24,
   "metadata": {},
   "outputs": [
    {
     "name": "stdout",
     "output_type": "stream",
     "text": [
      "Original order: ['Tokyo', 'Paris', 'New York', 'Sydney', 'Cape Town']\n",
      "Alphabetical order: ['Cape Town', 'New York', 'Paris', 'Sydney', 'Tokyo']\n",
      "Original order again: ['Tokyo', 'Paris', 'New York', 'Sydney', 'Cape Town']\n",
      "Reverse alphabetical order: ['Tokyo', 'Sydney', 'Paris', 'New York', 'Cape Town']\n",
      "Reversed order: ['Cape Town', 'Sydney', 'New York', 'Paris', 'Tokyo']\n",
      "Reversed back to original order: ['Tokyo', 'Paris', 'New York', 'Sydney', 'Cape Town']\n",
      "Alphabetical order: ['Cape Town', 'New York', 'Paris', 'Sydney', 'Tokyo']\n",
      "Reverse alphabetical order: ['Tokyo', 'Sydney', 'Paris', 'New York', 'Cape Town']\n"
     ]
    }
   ],
   "source": [
    "places = ['Tokyo', 'Paris', 'New York', 'Sydney', 'Cape Town']\n",
    "\n",
    "# Original list\n",
    "print(\"Original order:\", places)\n",
    "\n",
    "# Alphabetical order\n",
    "print(\"Alphabetical order:\", sorted(places))\n",
    "\n",
    "# Original list again\n",
    "print(\"Original order again:\", places)\n",
    "\n",
    "# Reverse alphabetical order\n",
    "print(\"Reverse alphabetical order:\", sorted(places, reverse=True))\n",
    "\n",
    "# Reversing the order\n",
    "places.reverse()\n",
    "print(\"Reversed order:\", places)\n",
    "\n",
    "# Reversing back to original order\n",
    "places.reverse()\n",
    "print(\"Reversed back to original order:\", places)\n",
    "\n",
    "# Sorting the list in alphabetical order\n",
    "places.sort()\n",
    "print(\"Alphabetical order:\", places)\n",
    "\n",
    "# Sorting the list in reverse alphabetical order\n",
    "places.sort(reverse=True)\n",
    "print(\"Reverse alphabetical order:\", places)"
   ]
  }
 ],
 "metadata": {
  "kernelspec": {
   "display_name": "base",
   "language": "python",
   "name": "python3"
  },
  "language_info": {
   "codemirror_mode": {
    "name": "ipython",
    "version": 3
   },
   "file_extension": ".py",
   "mimetype": "text/x-python",
   "name": "python",
   "nbconvert_exporter": "python",
   "pygments_lexer": "ipython3",
   "version": "3.9.12"
  }
 },
 "nbformat": 4,
 "nbformat_minor": 2
}
